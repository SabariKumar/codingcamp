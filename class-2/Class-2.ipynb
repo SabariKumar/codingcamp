{
 "cells": [
  {
   "cell_type": "code",
   "execution_count": 6,
   "id": "e960f00b",
   "metadata": {},
   "outputs": [],
   "source": [
    "import pandas as pd\n",
    "import numpy as np"
   ]
  },
  {
   "cell_type": "markdown",
   "id": "2b578d2b",
   "metadata": {},
   "source": [
    "## CSU Chemistry Theory Group Coding Camp 2022\n",
    "### Python basics Pt. 2: Data Storage and Manipulation with Pandas\n",
    "\n",
    "#### Agenda:\n",
    "* [Storing Data: Static Files vs. SQL databases](#storing-data)\n",
    "* [Reading Data](#reading-data)\n",
    "* [Manipulating Data and Basic Statistics](#manipulating-data)\n",
    "* [Plotting Data](#plotting-data)\n"
   ]
  },
  {
   "cell_type": "markdown",
   "id": "80192d32",
   "metadata": {},
   "source": [
    "## Storing Data: Static Files vs. Databases <a name=\"storing-data\"></a>\n",
    "\n",
    "We store data in two distinct formats: as static files, and as database objects. While we tend to use two terms interchangeably, they are quite different: static files tend to reside on your local hard disk, while databases are often on a remote server. Crucially, databases maintain concurrency among their entries - namely, they make it safe for multiple \"users\" to interact with stored data at once. In the context of high performance computing, this allows several parallel worker processes to act on the same dataset at the same time. In contrast, static files can usually only be acted on by one worker at a time, to prevent overwrites and data loss. While static workers are convenient to work with, high throughput workflows frequently necessitate the use of database storage modalities to maintain computational efficiency.\n",
    "\n",
    "**Database Pros**\n",
    "- Write and read concurrency\n",
    "- Easy distributed access makes it possible to have multiple computing resources working on the same dataset. Eg: AWS database \n",
    "- For SQL databases: the table schema enforces consistency\n",
    "- Can handle large production workloads, at scale\n",
    "\n",
    "**Static File Pros**\n",
    "- Easy to work with - single lines of code\n",
    "- Easy to back up\n",
    "\n",
    "**Database Cons**\n",
    "- Setup can be involved - behind CSU's firewall, you need ITS involvement\n",
    "- SQL can be hard to work with\n",
    "\n",
    "**Static File Cons**\n",
    "- Versioning can be difficult if your file is large (eg, > 50 MB files can't be uploaded to github)\n",
    "- Hard to utilize parallel worker processes\n",
    "\n",
    "---\n",
    "\n",
    "We're not going to cover working with databases directly in this session - if you need help with them in the future, reach out to Sabari/Shree/Guilian/Yeonjoon.\n",
    "\n",
    "Things to know about databases:\n",
    "- They come in two types: SQL and NoSQL. SQL databases have a strict table-like organization - a \"schema\" that data is organized by. All data in the db needs to follow this schema. NoSQL databases do not have a defining schema, and data can be unstructured - common formats follow JSON-like key-pair relationships\n",
    "- SQL databases come in several \"dialects\": MySQL, MariaDB, PostGRES, OracleSQL, MicrosoftSQL, etc. These dialects all have slightly different syntax and run on different port numbers. Know which one you are working with!\n",
    "- We frequently include database connection parameters as part of our code. If you then upload your code to github, your database parameters are now exposed to the world! Instead, read in database parameters from an external file that you can ommit from version control systems.\n",
    "\n",
    "---\n",
    "\n",
    "### Static Files\n",
    "\n",
    "Static files are the most common data sources we work with in our day-to-day. There are several different type options:\n",
    "\n",
    "- CSVs: \"Comma separated values\". As the name suggests, these consist of data in rows, with each data element separated by a comma and each row separated by a newline. The use of the comma as a delimitter is a common convention, but sometimes you'll see the use of a tab separator as well. It's  common practice to zip (compress) these for ease of storage - a .tar.gz extension is common on Unix based systems.\n",
    "Eg:  \n",
    "name, group, year  \n",
    "sabari, kim, 2  \n",
    "shree, paton, 4  \n",
    "yeonjoon, kim, postdoc  \n",
    "\n",
    "- JSON: \"Javascript object notation\". These consist of nested key-value pairs. Since they have a look similar to a python dictionary, they offer a convenient means to store data that doesn't have a strict tabular structure and has heirarchical relationships. Eg:  \n",
    "name: sabari  \n",
    "&ensp;group: kim  \n",
    "&ensp;year: 2  \n",
    "name: shree  \n",
    "&ensp;group: paton  \n",
    "&ensp;year: 4  \n",
    "name: yeonjoon  \n",
    "&ensp;group: kim  \n",
    "&ensp;year: postdoc  \n",
    "  \n",
    "- HDF5: \"Heirarchical Data Format V5\". This is a relatively newer file format, created to address the limitations of traditional static files. They can handle heterogenous data, can be sliced (the entire file does not need to be loaded into memory for parts to be accessed), and do better with multiple concurrent read/write processes. We won't get these too much here."
   ]
  },
  {
   "cell_type": "markdown",
   "id": "17716aae",
   "metadata": {},
   "source": [
    "## Reading Data <a name=\"reading-data\"></a>\n",
    "\n",
    "Using the python 'open' built in is useful when you have text data"
   ]
  },
  {
   "cell_type": "code",
   "execution_count": 7,
   "id": "c258c7ac",
   "metadata": {},
   "outputs": [],
   "source": [
    "# Dont do this - the file is kept open, even when you're done reading/writing to it\n",
    "file_lines = open('mytxt.txt', 'r').readlines()"
   ]
  },
  {
   "cell_type": "code",
   "execution_count": 8,
   "id": "059ea192",
   "metadata": {},
   "outputs": [],
   "source": [
    "# Do this instead!\n",
    "with open('mytxt.txt', 'r') as infile:\n",
    "    file_lines = infile.readlines()"
   ]
  },
  {
   "cell_type": "code",
   "execution_count": 9,
   "id": "63affbe2",
   "metadata": {},
   "outputs": [
    {
     "data": {
      "text/plain": [
       "['The quick brown fox jumps over the lazy dog.']"
      ]
     },
     "execution_count": 9,
     "metadata": {},
     "output_type": "execute_result"
    }
   ],
   "source": [
    "file_lines"
   ]
  },
  {
   "cell_type": "markdown",
   "id": "6b7b36e3",
   "metadata": {},
   "source": [
    "Using python's csv library:"
   ]
  },
  {
   "cell_type": "code",
   "execution_count": 2,
   "id": "ba0b861a",
   "metadata": {},
   "outputs": [],
   "source": [
    "import csv\n",
    "with open('18_04_2022_updated_DB.csv', 'r') as csv_file:\n",
    "    csv_reader = csv.reader(csv_file, delimiter=',')\n",
    "    for row in csv_reader:\n",
    "        # do something - this is a big file, so don't print it\n",
    "        pass"
   ]
  },
  {
   "cell_type": "markdown",
   "id": "6488efd7",
   "metadata": {},
   "source": [
    "The csv module also has a DictReader object (csv.DictReader) if you want to use key-value pairs:"
   ]
  },
  {
   "cell_type": "code",
   "execution_count": 4,
   "id": "ba05d0f8",
   "metadata": {},
   "outputs": [],
   "source": [
    "with open('18_04_2022_updated_DB.csv', 'r') as csv_file:\n",
    "    csv_reader = csv.DictReader(csv_file, delimiter=',')\n",
    "    for row in csv_reader:\n",
    "        # print(row['SMILES SOLUTE'])\n",
    "        pass"
   ]
  },
  {
   "cell_type": "markdown",
   "id": "2ad98a12",
   "metadata": {},
   "source": [
    "In general, you'll typically want to load csv data into a DataFrame object in pandas (more on that soon)"
   ]
  },
  {
   "cell_type": "code",
   "execution_count": 17,
   "id": "239bad90",
   "metadata": {},
   "outputs": [],
   "source": [
    "df = pd.read_csv('18_04_2022_updated_DB.csv')"
   ]
  },
  {
   "cell_type": "markdown",
   "id": "6a192cfd",
   "metadata": {},
   "source": [
    "Pandas has good documentation - the additional parameters to read_csv can be useful if your file looks weird.  \n",
    "https://pandas.pydata.org/docs/reference/api/pandas.read_csv.html"
   ]
  },
  {
   "cell_type": "markdown",
   "id": "28133caa",
   "metadata": {},
   "source": [
    "## Manipulating Data <a name=\"manipulating-data\"></a>\n"
   ]
  },
  {
   "cell_type": "markdown",
   "id": "300d13af",
   "metadata": {},
   "source": [
    "Now that we have our dataframe, lets play around with it. First, lets take a look at our dataframe"
   ]
  },
  {
   "cell_type": "code",
   "execution_count": 16,
   "id": "d34630f4",
   "metadata": {},
   "outputs": [
    {
     "data": {
      "text/html": [
       "<div>\n",
       "<style scoped>\n",
       "    .dataframe tbody tr th:only-of-type {\n",
       "        vertical-align: middle;\n",
       "    }\n",
       "\n",
       "    .dataframe tbody tr th {\n",
       "        vertical-align: top;\n",
       "    }\n",
       "\n",
       "    .dataframe thead th {\n",
       "        text-align: right;\n",
       "    }\n",
       "</style>\n",
       "<table border=\"1\" class=\"dataframe\">\n",
       "  <thead>\n",
       "    <tr style=\"text-align: right;\">\n",
       "      <th></th>\n",
       "      <th>SMILES SOLUTE</th>\n",
       "      <th>SMILES Solvent 1</th>\n",
       "      <th>SMILES Solvent 2</th>\n",
       "      <th>Mole Fraction Solvent 1</th>\n",
       "      <th>Mole Fraction  Solvent 2</th>\n",
       "      <th>Density (g/mL)</th>\n",
       "      <th>T (K)</th>\n",
       "      <th>log(S)</th>\n",
       "      <th>log(Xs)</th>\n",
       "      <th>Reference (DOI)</th>\n",
       "      <th>Comments</th>\n",
       "      <th>MW</th>\n",
       "      <th>pph(g/100g)</th>\n",
       "      <th>DeltaGsolv</th>\n",
       "    </tr>\n",
       "  </thead>\n",
       "  <tbody>\n",
       "    <tr>\n",
       "      <th>0</th>\n",
       "      <td>CCCCCCCC</td>\n",
       "      <td>Cc1ccccn1</td>\n",
       "      <td>NaN</td>\n",
       "      <td>1.0</td>\n",
       "      <td>0.0</td>\n",
       "      <td>NaN</td>\n",
       "      <td>NaN</td>\n",
       "      <td>NaN</td>\n",
       "      <td>NaN</td>\n",
       "      <td>10.13020/3eks-j059</td>\n",
       "      <td>From Minnesota Solvation Database (MNSOL) vers...</td>\n",
       "      <td>NaN</td>\n",
       "      <td>NaN</td>\n",
       "      <td>-4.73</td>\n",
       "    </tr>\n",
       "    <tr>\n",
       "      <th>1</th>\n",
       "      <td>Cc1ccccc1</td>\n",
       "      <td>Cc1ccccn1</td>\n",
       "      <td>NaN</td>\n",
       "      <td>1.0</td>\n",
       "      <td>0.0</td>\n",
       "      <td>NaN</td>\n",
       "      <td>NaN</td>\n",
       "      <td>NaN</td>\n",
       "      <td>NaN</td>\n",
       "      <td>10.13020/3eks-j059</td>\n",
       "      <td>From Minnesota Solvation Database (MNSOL) vers...</td>\n",
       "      <td>NaN</td>\n",
       "      <td>NaN</td>\n",
       "      <td>-5.06</td>\n",
       "    </tr>\n",
       "    <tr>\n",
       "      <th>2</th>\n",
       "      <td>CCO</td>\n",
       "      <td>Cc1ccccn1</td>\n",
       "      <td>NaN</td>\n",
       "      <td>1.0</td>\n",
       "      <td>0.0</td>\n",
       "      <td>NaN</td>\n",
       "      <td>NaN</td>\n",
       "      <td>NaN</td>\n",
       "      <td>NaN</td>\n",
       "      <td>10.13020/3eks-j059</td>\n",
       "      <td>From Minnesota Solvation Database (MNSOL) vers...</td>\n",
       "      <td>NaN</td>\n",
       "      <td>NaN</td>\n",
       "      <td>-5.01</td>\n",
       "    </tr>\n",
       "    <tr>\n",
       "      <th>3</th>\n",
       "      <td>C1COCCO1</td>\n",
       "      <td>Cc1ccccn1</td>\n",
       "      <td>NaN</td>\n",
       "      <td>1.0</td>\n",
       "      <td>0.0</td>\n",
       "      <td>NaN</td>\n",
       "      <td>NaN</td>\n",
       "      <td>NaN</td>\n",
       "      <td>NaN</td>\n",
       "      <td>10.13020/3eks-j059</td>\n",
       "      <td>From Minnesota Solvation Database (MNSOL) vers...</td>\n",
       "      <td>NaN</td>\n",
       "      <td>NaN</td>\n",
       "      <td>-5.01</td>\n",
       "    </tr>\n",
       "    <tr>\n",
       "      <th>4</th>\n",
       "      <td>CCC(C)=O</td>\n",
       "      <td>Cc1ccccn1</td>\n",
       "      <td>NaN</td>\n",
       "      <td>1.0</td>\n",
       "      <td>0.0</td>\n",
       "      <td>NaN</td>\n",
       "      <td>NaN</td>\n",
       "      <td>NaN</td>\n",
       "      <td>NaN</td>\n",
       "      <td>10.13020/3eks-j059</td>\n",
       "      <td>From Minnesota Solvation Database (MNSOL) vers...</td>\n",
       "      <td>NaN</td>\n",
       "      <td>NaN</td>\n",
       "      <td>-4.52</td>\n",
       "    </tr>\n",
       "    <tr>\n",
       "      <th>...</th>\n",
       "      <td>...</td>\n",
       "      <td>...</td>\n",
       "      <td>...</td>\n",
       "      <td>...</td>\n",
       "      <td>...</td>\n",
       "      <td>...</td>\n",
       "      <td>...</td>\n",
       "      <td>...</td>\n",
       "      <td>...</td>\n",
       "      <td>...</td>\n",
       "      <td>...</td>\n",
       "      <td>...</td>\n",
       "      <td>...</td>\n",
       "      <td>...</td>\n",
       "    </tr>\n",
       "    <tr>\n",
       "      <th>25327</th>\n",
       "      <td>COc1ccc(cc1OC)C(=O)N2CCN(CC2)c3ccc4NC(=O)CCc4c3</td>\n",
       "      <td>c1ccccc1</td>\n",
       "      <td>NaN</td>\n",
       "      <td>1.0</td>\n",
       "      <td>0.0</td>\n",
       "      <td>NaN</td>\n",
       "      <td>298.15</td>\n",
       "      <td>-3.789551538</td>\n",
       "      <td>NaN</td>\n",
       "      <td>10.5281/zenodo.3686212</td>\n",
       "      <td>From Nat Commun 11, 5753 (2020).</td>\n",
       "      <td>NaN</td>\n",
       "      <td>NaN</td>\n",
       "      <td>NaN</td>\n",
       "    </tr>\n",
       "    <tr>\n",
       "      <th>25328</th>\n",
       "      <td>Cc1ccc2[nH]c(Nc3ccccc3)nc2c1</td>\n",
       "      <td>c1ccccc1</td>\n",
       "      <td>NaN</td>\n",
       "      <td>1.0</td>\n",
       "      <td>0.0</td>\n",
       "      <td>NaN</td>\n",
       "      <td>288.15</td>\n",
       "      <td>-2.327158636</td>\n",
       "      <td>NaN</td>\n",
       "      <td>10.5281/zenodo.3686212</td>\n",
       "      <td>From Nat Commun 11, 5753 (2020).</td>\n",
       "      <td>NaN</td>\n",
       "      <td>NaN</td>\n",
       "      <td>NaN</td>\n",
       "    </tr>\n",
       "    <tr>\n",
       "      <th>25329</th>\n",
       "      <td>Cc1ccccc1C(O)=O</td>\n",
       "      <td>c1ccccc1</td>\n",
       "      <td>NaN</td>\n",
       "      <td>1.0</td>\n",
       "      <td>0.0</td>\n",
       "      <td>NaN</td>\n",
       "      <td>294.25</td>\n",
       "      <td>-0.138627526</td>\n",
       "      <td>NaN</td>\n",
       "      <td>10.5281/zenodo.3686212</td>\n",
       "      <td>From Nat Commun 11, 5753 (2020).</td>\n",
       "      <td>NaN</td>\n",
       "      <td>NaN</td>\n",
       "      <td>NaN</td>\n",
       "    </tr>\n",
       "    <tr>\n",
       "      <th>25330</th>\n",
       "      <td>Cc1cc(cc(c1O)[N+]([O-])=O)[N+]([O-])=O</td>\n",
       "      <td>c1ccccc1</td>\n",
       "      <td>NaN</td>\n",
       "      <td>1.0</td>\n",
       "      <td>0.0</td>\n",
       "      <td>NaN</td>\n",
       "      <td>288.15</td>\n",
       "      <td>0.215501725</td>\n",
       "      <td>NaN</td>\n",
       "      <td>10.5281/zenodo.3686212</td>\n",
       "      <td>From Nat Commun 11, 5753 (2020).</td>\n",
       "      <td>NaN</td>\n",
       "      <td>NaN</td>\n",
       "      <td>NaN</td>\n",
       "    </tr>\n",
       "    <tr>\n",
       "      <th>25331</th>\n",
       "      <td>CN(C)c1ccc(cc1)C(=Nc2ccccc2N)c3ccc(cc3)N(C)C</td>\n",
       "      <td>c1ccccc1</td>\n",
       "      <td>NaN</td>\n",
       "      <td>1.0</td>\n",
       "      <td>0.0</td>\n",
       "      <td>NaN</td>\n",
       "      <td>290.15</td>\n",
       "      <td>-1.139498852</td>\n",
       "      <td>NaN</td>\n",
       "      <td>10.5281/zenodo.3686212</td>\n",
       "      <td>From Nat Commun 11, 5753 (2020).</td>\n",
       "      <td>NaN</td>\n",
       "      <td>NaN</td>\n",
       "      <td>NaN</td>\n",
       "    </tr>\n",
       "  </tbody>\n",
       "</table>\n",
       "<p>25332 rows × 14 columns</p>\n",
       "</div>"
      ],
      "text/plain": [
       "                                         SMILES SOLUTE SMILES Solvent 1 SMILES Solvent 2  ...  MW  pph(g/100g) DeltaGsolv\n",
       "0                                             CCCCCCCC        Cc1ccccn1              NaN  ... NaN          NaN      -4.73\n",
       "1                                            Cc1ccccc1        Cc1ccccn1              NaN  ... NaN          NaN      -5.06\n",
       "2                                                  CCO        Cc1ccccn1              NaN  ... NaN          NaN      -5.01\n",
       "3                                             C1COCCO1        Cc1ccccn1              NaN  ... NaN          NaN      -5.01\n",
       "4                                             CCC(C)=O        Cc1ccccn1              NaN  ... NaN          NaN      -4.52\n",
       "...                                                ...              ...              ...  ...  ..          ...        ...\n",
       "25327  COc1ccc(cc1OC)C(=O)N2CCN(CC2)c3ccc4NC(=O)CCc4c3         c1ccccc1              NaN  ... NaN          NaN        NaN\n",
       "25328                     Cc1ccc2[nH]c(Nc3ccccc3)nc2c1         c1ccccc1              NaN  ... NaN          NaN        NaN\n",
       "25329                                  Cc1ccccc1C(O)=O         c1ccccc1              NaN  ... NaN          NaN        NaN\n",
       "25330           Cc1cc(cc(c1O)[N+]([O-])=O)[N+]([O-])=O         c1ccccc1              NaN  ... NaN          NaN        NaN\n",
       "25331     CN(C)c1ccc(cc1)C(=Nc2ccccc2N)c3ccc(cc3)N(C)C         c1ccccc1              NaN  ... NaN          NaN        NaN\n",
       "\n",
       "[25332 rows x 14 columns]"
      ]
     },
     "execution_count": 16,
     "metadata": {},
     "output_type": "execute_result"
    }
   ],
   "source": [
    "df"
   ]
  },
  {
   "cell_type": "code",
   "execution_count": 28,
   "id": "9e908379",
   "metadata": {},
   "outputs": [
    {
     "data": {
      "text/html": [
       "<div>\n",
       "<style scoped>\n",
       "    .dataframe tbody tr th:only-of-type {\n",
       "        vertical-align: middle;\n",
       "    }\n",
       "\n",
       "    .dataframe tbody tr th {\n",
       "        vertical-align: top;\n",
       "    }\n",
       "\n",
       "    .dataframe thead th {\n",
       "        text-align: right;\n",
       "    }\n",
       "</style>\n",
       "<table border=\"1\" class=\"dataframe\">\n",
       "  <thead>\n",
       "    <tr style=\"text-align: right;\">\n",
       "      <th></th>\n",
       "      <th>SMILES SOLUTE</th>\n",
       "      <th>SMILES Solvent 1</th>\n",
       "      <th>SMILES Solvent 2</th>\n",
       "      <th>Mole Fraction Solvent 1</th>\n",
       "      <th>Mole Fraction  Solvent 2</th>\n",
       "      <th>Density (g/mL)</th>\n",
       "      <th>T (K)</th>\n",
       "      <th>log(S)</th>\n",
       "      <th>log(Xs)</th>\n",
       "      <th>Reference (DOI)</th>\n",
       "      <th>Comments</th>\n",
       "      <th>MW</th>\n",
       "      <th>pph(g/100g)</th>\n",
       "      <th>DeltaGsolv</th>\n",
       "    </tr>\n",
       "  </thead>\n",
       "  <tbody>\n",
       "    <tr>\n",
       "      <th>0</th>\n",
       "      <td>CCCCCCCC</td>\n",
       "      <td>Cc1ccccn1</td>\n",
       "      <td>NaN</td>\n",
       "      <td>1.0</td>\n",
       "      <td>0.0</td>\n",
       "      <td>NaN</td>\n",
       "      <td>NaN</td>\n",
       "      <td>NaN</td>\n",
       "      <td>NaN</td>\n",
       "      <td>10.13020/3eks-j059</td>\n",
       "      <td>From Minnesota Solvation Database (MNSOL) vers...</td>\n",
       "      <td>NaN</td>\n",
       "      <td>NaN</td>\n",
       "      <td>-4.73</td>\n",
       "    </tr>\n",
       "    <tr>\n",
       "      <th>1</th>\n",
       "      <td>Cc1ccccc1</td>\n",
       "      <td>Cc1ccccn1</td>\n",
       "      <td>NaN</td>\n",
       "      <td>1.0</td>\n",
       "      <td>0.0</td>\n",
       "      <td>NaN</td>\n",
       "      <td>NaN</td>\n",
       "      <td>NaN</td>\n",
       "      <td>NaN</td>\n",
       "      <td>10.13020/3eks-j059</td>\n",
       "      <td>From Minnesota Solvation Database (MNSOL) vers...</td>\n",
       "      <td>NaN</td>\n",
       "      <td>NaN</td>\n",
       "      <td>-5.06</td>\n",
       "    </tr>\n",
       "    <tr>\n",
       "      <th>2</th>\n",
       "      <td>CCO</td>\n",
       "      <td>Cc1ccccn1</td>\n",
       "      <td>NaN</td>\n",
       "      <td>1.0</td>\n",
       "      <td>0.0</td>\n",
       "      <td>NaN</td>\n",
       "      <td>NaN</td>\n",
       "      <td>NaN</td>\n",
       "      <td>NaN</td>\n",
       "      <td>10.13020/3eks-j059</td>\n",
       "      <td>From Minnesota Solvation Database (MNSOL) vers...</td>\n",
       "      <td>NaN</td>\n",
       "      <td>NaN</td>\n",
       "      <td>-5.01</td>\n",
       "    </tr>\n",
       "    <tr>\n",
       "      <th>3</th>\n",
       "      <td>C1COCCO1</td>\n",
       "      <td>Cc1ccccn1</td>\n",
       "      <td>NaN</td>\n",
       "      <td>1.0</td>\n",
       "      <td>0.0</td>\n",
       "      <td>NaN</td>\n",
       "      <td>NaN</td>\n",
       "      <td>NaN</td>\n",
       "      <td>NaN</td>\n",
       "      <td>10.13020/3eks-j059</td>\n",
       "      <td>From Minnesota Solvation Database (MNSOL) vers...</td>\n",
       "      <td>NaN</td>\n",
       "      <td>NaN</td>\n",
       "      <td>-5.01</td>\n",
       "    </tr>\n",
       "    <tr>\n",
       "      <th>4</th>\n",
       "      <td>CCC(C)=O</td>\n",
       "      <td>Cc1ccccn1</td>\n",
       "      <td>NaN</td>\n",
       "      <td>1.0</td>\n",
       "      <td>0.0</td>\n",
       "      <td>NaN</td>\n",
       "      <td>NaN</td>\n",
       "      <td>NaN</td>\n",
       "      <td>NaN</td>\n",
       "      <td>10.13020/3eks-j059</td>\n",
       "      <td>From Minnesota Solvation Database (MNSOL) vers...</td>\n",
       "      <td>NaN</td>\n",
       "      <td>NaN</td>\n",
       "      <td>-4.52</td>\n",
       "    </tr>\n",
       "  </tbody>\n",
       "</table>\n",
       "</div>"
      ],
      "text/plain": [
       "  SMILES SOLUTE SMILES Solvent 1 SMILES Solvent 2  ...  MW  pph(g/100g) DeltaGsolv\n",
       "0      CCCCCCCC        Cc1ccccn1              NaN  ... NaN          NaN      -4.73\n",
       "1     Cc1ccccc1        Cc1ccccn1              NaN  ... NaN          NaN      -5.06\n",
       "2           CCO        Cc1ccccn1              NaN  ... NaN          NaN      -5.01\n",
       "3      C1COCCO1        Cc1ccccn1              NaN  ... NaN          NaN      -5.01\n",
       "4      CCC(C)=O        Cc1ccccn1              NaN  ... NaN          NaN      -4.52\n",
       "\n",
       "[5 rows x 14 columns]"
      ]
     },
     "execution_count": 28,
     "metadata": {},
     "output_type": "execute_result"
    }
   ],
   "source": [
    "df.head() # Note that this is a function!"
   ]
  },
  {
   "cell_type": "code",
   "execution_count": 24,
   "id": "532674da",
   "metadata": {},
   "outputs": [
    {
     "data": {
      "text/plain": [
       "<bound method NDFrame.head of                                          SMILES SOLUTE SMILES Solvent 1 SMILES Solvent 2  ...  MW  pph(g/100g) DeltaGsolv\n",
       "0                                             CCCCCCCC        Cc1ccccn1              NaN  ... NaN          NaN      -4.73\n",
       "1                                            Cc1ccccc1        Cc1ccccn1              NaN  ... NaN          NaN      -5.06\n",
       "2                                                  CCO        Cc1ccccn1              NaN  ... NaN          NaN      -5.01\n",
       "3                                             C1COCCO1        Cc1ccccn1              NaN  ... NaN          NaN      -5.01\n",
       "4                                             CCC(C)=O        Cc1ccccn1              NaN  ... NaN          NaN      -4.52\n",
       "...                                                ...              ...              ...  ...  ..          ...        ...\n",
       "25327  COc1ccc(cc1OC)C(=O)N2CCN(CC2)c3ccc4NC(=O)CCc4c3         c1ccccc1              NaN  ... NaN          NaN        NaN\n",
       "25328                     Cc1ccc2[nH]c(Nc3ccccc3)nc2c1         c1ccccc1              NaN  ... NaN          NaN        NaN\n",
       "25329                                  Cc1ccccc1C(O)=O         c1ccccc1              NaN  ... NaN          NaN        NaN\n",
       "25330           Cc1cc(cc(c1O)[N+]([O-])=O)[N+]([O-])=O         c1ccccc1              NaN  ... NaN          NaN        NaN\n",
       "25331     CN(C)c1ccc(cc1)C(=Nc2ccccc2N)c3ccc(cc3)N(C)C         c1ccccc1              NaN  ... NaN          NaN        NaN\n",
       "\n",
       "[25332 rows x 14 columns]>"
      ]
     },
     "execution_count": 24,
     "metadata": {},
     "output_type": "execute_result"
    }
   ],
   "source": [
    "df.head"
   ]
  },
  {
   "cell_type": "code",
   "execution_count": 25,
   "id": "25eeb44e",
   "metadata": {},
   "outputs": [
    {
     "data": {
      "text/plain": [
       "(25332, 14)"
      ]
     },
     "execution_count": 25,
     "metadata": {},
     "output_type": "execute_result"
    }
   ],
   "source": [
    "df.shape # This is not a function - its a tuple object of rows x columns"
   ]
  },
  {
   "cell_type": "code",
   "execution_count": 27,
   "id": "513daf1c",
   "metadata": {},
   "outputs": [
    {
     "name": "stdout",
     "output_type": "stream",
     "text": [
      "Number of data points: 354648\n"
     ]
    }
   ],
   "source": [
    "print(f'Number of data points: {df.shape[0]*df.shape[1]}')"
   ]
  },
  {
   "cell_type": "markdown",
   "id": "cb1575ad",
   "metadata": {},
   "source": [
    "Every column in a pandas dataframe is a Series object:"
   ]
  },
  {
   "cell_type": "code",
   "execution_count": 32,
   "id": "036e02fb",
   "metadata": {},
   "outputs": [
    {
     "data": {
      "text/plain": [
       "0     CCCCCCCC\n",
       "1    Cc1ccccc1\n",
       "2          CCO\n",
       "3     C1COCCO1\n",
       "4     CCC(C)=O\n",
       "Name: SMILES SOLUTE, dtype: object"
      ]
     },
     "execution_count": 32,
     "metadata": {},
     "output_type": "execute_result"
    }
   ],
   "source": [
    "df['SMILES SOLUTE'].head()"
   ]
  },
  {
   "cell_type": "markdown",
   "id": "2f41c484",
   "metadata": {},
   "source": [
    "I want a separate dataframe of solutes and solvent SMILES (perhaps to analyze compound diversity in my dataset): "
   ]
  },
  {
   "cell_type": "code",
   "execution_count": 38,
   "id": "fe555e58",
   "metadata": {},
   "outputs": [
    {
     "data": {
      "text/html": [
       "<div>\n",
       "<style scoped>\n",
       "    .dataframe tbody tr th:only-of-type {\n",
       "        vertical-align: middle;\n",
       "    }\n",
       "\n",
       "    .dataframe tbody tr th {\n",
       "        vertical-align: top;\n",
       "    }\n",
       "\n",
       "    .dataframe thead th {\n",
       "        text-align: right;\n",
       "    }\n",
       "</style>\n",
       "<table border=\"1\" class=\"dataframe\">\n",
       "  <thead>\n",
       "    <tr style=\"text-align: right;\">\n",
       "      <th></th>\n",
       "      <th>SMILES SOLUTE</th>\n",
       "      <th>SMILES Solvent 1</th>\n",
       "      <th>SMILES Solvent 2</th>\n",
       "    </tr>\n",
       "  </thead>\n",
       "  <tbody>\n",
       "    <tr>\n",
       "      <th>0</th>\n",
       "      <td>CCCCCCCC</td>\n",
       "      <td>Cc1ccccn1</td>\n",
       "      <td>NaN</td>\n",
       "    </tr>\n",
       "    <tr>\n",
       "      <th>1</th>\n",
       "      <td>Cc1ccccc1</td>\n",
       "      <td>Cc1ccccn1</td>\n",
       "      <td>NaN</td>\n",
       "    </tr>\n",
       "    <tr>\n",
       "      <th>2</th>\n",
       "      <td>CCO</td>\n",
       "      <td>Cc1ccccn1</td>\n",
       "      <td>NaN</td>\n",
       "    </tr>\n",
       "    <tr>\n",
       "      <th>3</th>\n",
       "      <td>C1COCCO1</td>\n",
       "      <td>Cc1ccccn1</td>\n",
       "      <td>NaN</td>\n",
       "    </tr>\n",
       "    <tr>\n",
       "      <th>4</th>\n",
       "      <td>CCC(C)=O</td>\n",
       "      <td>Cc1ccccn1</td>\n",
       "      <td>NaN</td>\n",
       "    </tr>\n",
       "    <tr>\n",
       "      <th>...</th>\n",
       "      <td>...</td>\n",
       "      <td>...</td>\n",
       "      <td>...</td>\n",
       "    </tr>\n",
       "    <tr>\n",
       "      <th>25327</th>\n",
       "      <td>COc1ccc(cc1OC)C(=O)N2CCN(CC2)c3ccc4NC(=O)CCc4c3</td>\n",
       "      <td>c1ccccc1</td>\n",
       "      <td>NaN</td>\n",
       "    </tr>\n",
       "    <tr>\n",
       "      <th>25328</th>\n",
       "      <td>Cc1ccc2[nH]c(Nc3ccccc3)nc2c1</td>\n",
       "      <td>c1ccccc1</td>\n",
       "      <td>NaN</td>\n",
       "    </tr>\n",
       "    <tr>\n",
       "      <th>25329</th>\n",
       "      <td>Cc1ccccc1C(O)=O</td>\n",
       "      <td>c1ccccc1</td>\n",
       "      <td>NaN</td>\n",
       "    </tr>\n",
       "    <tr>\n",
       "      <th>25330</th>\n",
       "      <td>Cc1cc(cc(c1O)[N+]([O-])=O)[N+]([O-])=O</td>\n",
       "      <td>c1ccccc1</td>\n",
       "      <td>NaN</td>\n",
       "    </tr>\n",
       "    <tr>\n",
       "      <th>25331</th>\n",
       "      <td>CN(C)c1ccc(cc1)C(=Nc2ccccc2N)c3ccc(cc3)N(C)C</td>\n",
       "      <td>c1ccccc1</td>\n",
       "      <td>NaN</td>\n",
       "    </tr>\n",
       "  </tbody>\n",
       "</table>\n",
       "<p>25332 rows × 3 columns</p>\n",
       "</div>"
      ],
      "text/plain": [
       "                                         SMILES SOLUTE SMILES Solvent 1 SMILES Solvent 2\n",
       "0                                             CCCCCCCC        Cc1ccccn1              NaN\n",
       "1                                            Cc1ccccc1        Cc1ccccn1              NaN\n",
       "2                                                  CCO        Cc1ccccn1              NaN\n",
       "3                                             C1COCCO1        Cc1ccccn1              NaN\n",
       "4                                             CCC(C)=O        Cc1ccccn1              NaN\n",
       "...                                                ...              ...              ...\n",
       "25327  COc1ccc(cc1OC)C(=O)N2CCN(CC2)c3ccc4NC(=O)CCc4c3         c1ccccc1              NaN\n",
       "25328                     Cc1ccc2[nH]c(Nc3ccccc3)nc2c1         c1ccccc1              NaN\n",
       "25329                                  Cc1ccccc1C(O)=O         c1ccccc1              NaN\n",
       "25330           Cc1cc(cc(c1O)[N+]([O-])=O)[N+]([O-])=O         c1ccccc1              NaN\n",
       "25331     CN(C)c1ccc(cc1)C(=Nc2ccccc2N)c3ccc(cc3)N(C)C         c1ccccc1              NaN\n",
       "\n",
       "[25332 rows x 3 columns]"
      ]
     },
     "execution_count": 38,
     "metadata": {},
     "output_type": "execute_result"
    }
   ],
   "source": [
    "compound_df = df[['SMILES SOLUTE', 'SMILES Solvent 1', 'SMILES Solvent 2']]\n",
    "compound_df"
   ]
  },
  {
   "cell_type": "markdown",
   "id": "20e9c87d",
   "metadata": {},
   "source": [
    "Notice that there are a lot of NaN values in the dataframe - these are 'not a number', representing a null value. Let's count how many multi-solvent systems we have using the notna function:"
   ]
  },
  {
   "cell_type": "code",
   "execution_count": 43,
   "id": "bad5003c",
   "metadata": {},
   "outputs": [
    {
     "data": {
      "text/plain": [
       "0        False\n",
       "1        False\n",
       "2        False\n",
       "3        False\n",
       "4        False\n",
       "         ...  \n",
       "25327    False\n",
       "25328    False\n",
       "25329    False\n",
       "25330    False\n",
       "25331    False\n",
       "Name: SMILES Solvent 2, Length: 25332, dtype: bool"
      ]
     },
     "execution_count": 43,
     "metadata": {},
     "output_type": "execute_result"
    }
   ],
   "source": [
    "multi_compound_mask = compound_df['SMILES Solvent 2'].notna()\n",
    "multi_compound_mask"
   ]
  },
  {
   "cell_type": "code",
   "execution_count": 44,
   "id": "6f823d5e",
   "metadata": {},
   "outputs": [
    {
     "name": "stdout",
     "output_type": "stream",
     "text": [
      "There are 9023 multi-solvent systems\n"
     ]
    }
   ],
   "source": [
    "print(f'There are {sum(multi_compound_mask)} multi-solvent systems')"
   ]
  },
  {
   "cell_type": "markdown",
   "id": "57240fb2",
   "metadata": {},
   "source": [
    "We can now use the mult_compound_mask to select data from our dataframe:"
   ]
  },
  {
   "cell_type": "code",
   "execution_count": null,
   "id": "03d4e37a",
   "metadata": {},
   "outputs": [],
   "source": []
  }
 ],
 "metadata": {
  "kernelspec": {
   "display_name": "Python [conda env:rdKit]",
   "language": "python",
   "name": "conda-env-rdKit-xpython"
  },
  "language_info": {
   "file_extension": ".py",
   "mimetype": "text/x-python",
   "name": "python",
   "version": "3.6.11"
  }
 },
 "nbformat": 4,
 "nbformat_minor": 5
}
