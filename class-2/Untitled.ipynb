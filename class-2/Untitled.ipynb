{
 "cells": [
  {
   "cell_type": "code",
   "execution_count": 2,
   "id": "73b34c4c",
   "metadata": {},
   "outputs": [
    {
     "name": "stderr",
     "output_type": "stream",
     "text": [
      "/home/sabari/anaconda3/envs/rdKit/lib/python3.6/site-packages/psycopg2/__init__.py:144: UserWarning: The psycopg2 wheel package will be renamed from release 2.8; in order to keep installing from binary please use \"pip install psycopg2-binary\" instead. For details see: <http://initd.org/psycopg/docs/install.html#binary-install-from-pypi>.\n",
      "  \"\"\")\n"
     ]
    }
   ],
   "source": [
    "import pandas as pd\n",
    "import numpy as np\n",
    "import psycopg2"
   ]
  },
  {
   "cell_type": "markdown",
   "id": "4a50b686",
   "metadata": {},
   "source": [
    "## CSU Chemistry Theory Group Coding Camp 2022\n",
    "### Python basics Pt. 2: Data Storage and Manipulation with Pandas\n",
    "\n",
    "#### Agenda:\n",
    "* [Storing data: Static Files vs. SQL databases](#storing-data)\n",
    "* [Reading data](#reading-data)\n",
    "* [Manipulating data and basic statistics](#manipulating-data)\n",
    "* [Plotting data](#plotting-data)\n"
   ]
  },
  {
   "cell_type": "markdown",
   "id": "0e6e708a",
   "metadata": {},
   "source": [
    "## Storing data: Static Files vs. Databases <a name=\"storing-data\"></a>\n"
   ]
  },
  {
   "cell_type": "code",
   "execution_count": null,
   "id": "269a6424",
   "metadata": {},
   "outputs": [],
   "source": [
    "db_params = "
   ]
  }
 ],
 "metadata": {
  "kernelspec": {
   "display_name": "Python [conda env:rdKit]",
   "language": "python",
   "name": "conda-env-rdKit-xpython"
  },
  "language_info": {
   "file_extension": ".py",
   "mimetype": "text/x-python",
   "name": "python",
   "version": "3.6.11"
  }
 },
 "nbformat": 4,
 "nbformat_minor": 5
}
